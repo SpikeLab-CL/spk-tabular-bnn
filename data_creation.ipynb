{
 "cells": [
  {
   "cell_type": "code",
   "execution_count": 1,
   "metadata": {},
   "outputs": [],
   "source": [
    "import pandas as pd\n",
    "import numpy as np"
   ]
  },
  {
   "cell_type": "markdown",
   "metadata": {},
   "source": [
    "In this notebook we are going to generate data using the **numpy.random** module as toy example of regression tabular data sample"
   ]
  },
  {
   "cell_type": "markdown",
   "metadata": {},
   "source": [
    "# Feature generation"
   ]
  },
  {
   "cell_type": "code",
   "execution_count": 2,
   "metadata": {},
   "outputs": [],
   "source": [
    "n_samples = 100_000"
   ]
  },
  {
   "cell_type": "markdown",
   "metadata": {},
   "source": [
    "## Numerical features\n",
    "we are going to create 10 numerical features \n",
    "\n",
    "- 5 with gamma distributions (positive and long tail)\n",
    "- 5 with beta distributions"
   ]
  },
  {
   "cell_type": "markdown",
   "metadata": {},
   "source": [
    "### Gamma distributed"
   ]
  },
  {
   "cell_type": "code",
   "execution_count": 3,
   "metadata": {},
   "outputs": [
    {
     "data": {
      "text/html": [
       "<div>\n",
       "<style scoped>\n",
       "    .dataframe tbody tr th:only-of-type {\n",
       "        vertical-align: middle;\n",
       "    }\n",
       "\n",
       "    .dataframe tbody tr th {\n",
       "        vertical-align: top;\n",
       "    }\n",
       "\n",
       "    .dataframe thead th {\n",
       "        text-align: right;\n",
       "    }\n",
       "</style>\n",
       "<table border=\"1\" class=\"dataframe\">\n",
       "  <thead>\n",
       "    <tr style=\"text-align: right;\">\n",
       "      <th></th>\n",
       "      <th>numeric_0</th>\n",
       "      <th>numeric_1</th>\n",
       "      <th>numeric_2</th>\n",
       "      <th>numeric_3</th>\n",
       "      <th>numeric_4</th>\n",
       "    </tr>\n",
       "  </thead>\n",
       "  <tbody>\n",
       "    <tr>\n",
       "      <th>0</th>\n",
       "      <td>0.198528</td>\n",
       "      <td>1.241497</td>\n",
       "      <td>4.696066</td>\n",
       "      <td>11.830818</td>\n",
       "      <td>2.279061e-02</td>\n",
       "    </tr>\n",
       "    <tr>\n",
       "      <th>1</th>\n",
       "      <td>0.143972</td>\n",
       "      <td>2.159283</td>\n",
       "      <td>4.076755</td>\n",
       "      <td>6.600040</td>\n",
       "      <td>3.775116e-10</td>\n",
       "    </tr>\n",
       "    <tr>\n",
       "      <th>2</th>\n",
       "      <td>0.121537</td>\n",
       "      <td>0.374257</td>\n",
       "      <td>6.227243</td>\n",
       "      <td>7.745228</td>\n",
       "      <td>2.007561e+00</td>\n",
       "    </tr>\n",
       "    <tr>\n",
       "      <th>3</th>\n",
       "      <td>1.725056</td>\n",
       "      <td>1.172090</td>\n",
       "      <td>5.839338</td>\n",
       "      <td>8.856516</td>\n",
       "      <td>9.588456e-01</td>\n",
       "    </tr>\n",
       "    <tr>\n",
       "      <th>4</th>\n",
       "      <td>0.665196</td>\n",
       "      <td>0.487660</td>\n",
       "      <td>4.155012</td>\n",
       "      <td>11.517602</td>\n",
       "      <td>1.596134e-03</td>\n",
       "    </tr>\n",
       "  </tbody>\n",
       "</table>\n",
       "</div>"
      ],
      "text/plain": [
       "   numeric_0  numeric_1  numeric_2  numeric_3     numeric_4\n",
       "0   0.198528   1.241497   4.696066  11.830818  2.279061e-02\n",
       "1   0.143972   2.159283   4.076755   6.600040  3.775116e-10\n",
       "2   0.121537   0.374257   6.227243   7.745228  2.007561e+00\n",
       "3   1.725056   1.172090   5.839338   8.856516  9.588456e-01\n",
       "4   0.665196   0.487660   4.155012  11.517602  1.596134e-03"
      ]
     },
     "execution_count": 3,
     "metadata": {},
     "output_type": "execute_result"
    }
   ],
   "source": [
    "k = [0.5, 1, 2, 3, 0.1] \n",
    "scale = [0.5, 1, 2, 3, 10 ]\n",
    "numeric_feats_gamma = pd.DataFrame(\n",
    "    data=np.random.gamma(k, scale, size=(n_samples, len(k))),\n",
    "    columns=[f'numeric_{i}' for i in range(len(k))]\n",
    ")\n",
    "\n",
    "numeric_feats_gamma.head()"
   ]
  },
  {
   "cell_type": "code",
   "execution_count": 4,
   "metadata": {},
   "outputs": [
    {
     "data": {
      "image/png": "[encoded data removed]",
      "text/plain": [
       "<Figure size 1080x504 with 6 Axes>"
      ]
     },
     "metadata": {
      "needs_background": "light"
     },
     "output_type": "display_data"
    }
   ],
   "source": [
    "numeric_feats_gamma.hist(figsize=(15, 7), bins=50);"
   ]
  },
  {
   "cell_type": "markdown",
   "metadata": {},
   "source": [
    "### Beta distributed"
   ]
  },
  {
   "cell_type": "code",
   "execution_count": 5,
   "metadata": {},
   "outputs": [
    {
     "data": {
      "text/html": [
       "<div>\n",
       "<style scoped>\n",
       "    .dataframe tbody tr th:only-of-type {\n",
       "        vertical-align: middle;\n",
       "    }\n",
       "\n",
       "    .dataframe tbody tr th {\n",
       "        vertical-align: top;\n",
       "    }\n",
       "\n",
       "    .dataframe thead th {\n",
       "        text-align: right;\n",
       "    }\n",
       "</style>\n",
       "<table border=\"1\" class=\"dataframe\">\n",
       "  <thead>\n",
       "    <tr style=\"text-align: right;\">\n",
       "      <th></th>\n",
       "      <th>numeric_5</th>\n",
       "      <th>numeric_6</th>\n",
       "      <th>numeric_7</th>\n",
       "      <th>numeric_8</th>\n",
       "      <th>numeric_9</th>\n",
       "    </tr>\n",
       "  </thead>\n",
       "  <tbody>\n",
       "    <tr>\n",
       "      <th>0</th>\n",
       "      <td>0.080009</td>\n",
       "      <td>0.946947</td>\n",
       "      <td>3.799003e-08</td>\n",
       "      <td>0.999981</td>\n",
       "      <td>0.729404</td>\n",
       "    </tr>\n",
       "    <tr>\n",
       "      <th>1</th>\n",
       "      <td>0.053959</td>\n",
       "      <td>0.928054</td>\n",
       "      <td>6.577032e-06</td>\n",
       "      <td>0.997312</td>\n",
       "      <td>0.466690</td>\n",
       "    </tr>\n",
       "    <tr>\n",
       "      <th>2</th>\n",
       "      <td>0.031287</td>\n",
       "      <td>0.981738</td>\n",
       "      <td>8.008769e-01</td>\n",
       "      <td>0.976252</td>\n",
       "      <td>0.764562</td>\n",
       "    </tr>\n",
       "    <tr>\n",
       "      <th>3</th>\n",
       "      <td>0.060675</td>\n",
       "      <td>0.998299</td>\n",
       "      <td>1.273418e-05</td>\n",
       "      <td>0.999931</td>\n",
       "      <td>0.436125</td>\n",
       "    </tr>\n",
       "    <tr>\n",
       "      <th>4</th>\n",
       "      <td>0.186576</td>\n",
       "      <td>0.991971</td>\n",
       "      <td>5.740028e-03</td>\n",
       "      <td>0.964936</td>\n",
       "      <td>0.320067</td>\n",
       "    </tr>\n",
       "  </tbody>\n",
       "</table>\n",
       "</div>"
      ],
      "text/plain": [
       "   numeric_5  numeric_6     numeric_7  numeric_8  numeric_9\n",
       "0   0.080009   0.946947  3.799003e-08   0.999981   0.729404\n",
       "1   0.053959   0.928054  6.577032e-06   0.997312   0.466690\n",
       "2   0.031287   0.981738  8.008769e-01   0.976252   0.764562\n",
       "3   0.060675   0.998299  1.273418e-05   0.999931   0.436125\n",
       "4   0.186576   0.991971  5.740028e-03   0.964936   0.320067"
      ]
     },
     "execution_count": 5,
     "metadata": {},
     "output_type": "execute_result"
    }
   ],
   "source": [
    "alpha = [1, 20, 0.1, 10, 5]\n",
    "beta = [7, 1, 1, 0.4, 4]\n",
    "numeric_feats_beta = pd.DataFrame(\n",
    "    data=np.random.beta(alpha, beta, size=(n_samples, len(scale))),\n",
    "    columns=[f'numeric_{len(k)+i}' for i in range(len(scale))]\n",
    ")\n",
    "\n",
    "numeric_feats_beta.head()"
   ]
  },
  {
   "cell_type": "code",
   "execution_count": 6,
   "metadata": {},
   "outputs": [
    {
     "data": {
      "image/png": "[encoded data removed]",
      "text/plain": [
       "<Figure size 1080x648 with 6 Axes>"
      ]
     },
     "metadata": {
      "needs_background": "light"
     },
     "output_type": "display_data"
    }
   ],
   "source": [
    "numeric_feats_beta.hist(figsize=(15, 9), bins=50);"
   ]
  },
  {
   "cell_type": "code",
   "execution_count": 7,
   "metadata": {},
   "outputs": [
    {
     "data": {
      "text/html": [
       "<div>\n",
       "<style scoped>\n",
       "    .dataframe tbody tr th:only-of-type {\n",
       "        vertical-align: middle;\n",
       "    }\n",
       "\n",
       "    .dataframe tbody tr th {\n",
       "        vertical-align: top;\n",
       "    }\n",
       "\n",
       "    .dataframe thead th {\n",
       "        text-align: right;\n",
       "    }\n",
       "</style>\n",
       "<table border=\"1\" class=\"dataframe\">\n",
       "  <thead>\n",
       "    <tr style=\"text-align: right;\">\n",
       "      <th></th>\n",
       "      <th>numeric_0</th>\n",
       "      <th>numeric_1</th>\n",
       "      <th>numeric_2</th>\n",
       "      <th>numeric_3</th>\n",
       "      <th>numeric_4</th>\n",
       "      <th>numeric_5</th>\n",
       "      <th>numeric_6</th>\n",
       "      <th>numeric_7</th>\n",
       "      <th>numeric_8</th>\n",
       "      <th>numeric_9</th>\n",
       "    </tr>\n",
       "  </thead>\n",
       "  <tbody>\n",
       "    <tr>\n",
       "      <th>0</th>\n",
       "      <td>0.198528</td>\n",
       "      <td>1.241497</td>\n",
       "      <td>4.696066</td>\n",
       "      <td>11.830818</td>\n",
       "      <td>2.279061e-02</td>\n",
       "      <td>0.080009</td>\n",
       "      <td>0.946947</td>\n",
       "      <td>3.799003e-08</td>\n",
       "      <td>0.999981</td>\n",
       "      <td>0.729404</td>\n",
       "    </tr>\n",
       "    <tr>\n",
       "      <th>1</th>\n",
       "      <td>0.143972</td>\n",
       "      <td>2.159283</td>\n",
       "      <td>4.076755</td>\n",
       "      <td>6.600040</td>\n",
       "      <td>3.775116e-10</td>\n",
       "      <td>0.053959</td>\n",
       "      <td>0.928054</td>\n",
       "      <td>6.577032e-06</td>\n",
       "      <td>0.997312</td>\n",
       "      <td>0.466690</td>\n",
       "    </tr>\n",
       "    <tr>\n",
       "      <th>2</th>\n",
       "      <td>0.121537</td>\n",
       "      <td>0.374257</td>\n",
       "      <td>6.227243</td>\n",
       "      <td>7.745228</td>\n",
       "      <td>2.007561e+00</td>\n",
       "      <td>0.031287</td>\n",
       "      <td>0.981738</td>\n",
       "      <td>8.008769e-01</td>\n",
       "      <td>0.976252</td>\n",
       "      <td>0.764562</td>\n",
       "    </tr>\n",
       "    <tr>\n",
       "      <th>3</th>\n",
       "      <td>1.725056</td>\n",
       "      <td>1.172090</td>\n",
       "      <td>5.839338</td>\n",
       "      <td>8.856516</td>\n",
       "      <td>9.588456e-01</td>\n",
       "      <td>0.060675</td>\n",
       "      <td>0.998299</td>\n",
       "      <td>1.273418e-05</td>\n",
       "      <td>0.999931</td>\n",
       "      <td>0.436125</td>\n",
       "    </tr>\n",
       "    <tr>\n",
       "      <th>4</th>\n",
       "      <td>0.665196</td>\n",
       "      <td>0.487660</td>\n",
       "      <td>4.155012</td>\n",
       "      <td>11.517602</td>\n",
       "      <td>1.596134e-03</td>\n",
       "      <td>0.186576</td>\n",
       "      <td>0.991971</td>\n",
       "      <td>5.740028e-03</td>\n",
       "      <td>0.964936</td>\n",
       "      <td>0.320067</td>\n",
       "    </tr>\n",
       "  </tbody>\n",
       "</table>\n",
       "</div>"
      ],
      "text/plain": [
       "   numeric_0  numeric_1  numeric_2  numeric_3     numeric_4  numeric_5  \\\n",
       "0   0.198528   1.241497   4.696066  11.830818  2.279061e-02   0.080009   \n",
       "1   0.143972   2.159283   4.076755   6.600040  3.775116e-10   0.053959   \n",
       "2   0.121537   0.374257   6.227243   7.745228  2.007561e+00   0.031287   \n",
       "3   1.725056   1.172090   5.839338   8.856516  9.588456e-01   0.060675   \n",
       "4   0.665196   0.487660   4.155012  11.517602  1.596134e-03   0.186576   \n",
       "\n",
       "   numeric_6     numeric_7  numeric_8  numeric_9  \n",
       "0   0.946947  3.799003e-08   0.999981   0.729404  \n",
       "1   0.928054  6.577032e-06   0.997312   0.466690  \n",
       "2   0.981738  8.008769e-01   0.976252   0.764562  \n",
       "3   0.998299  1.273418e-05   0.999931   0.436125  \n",
       "4   0.991971  5.740028e-03   0.964936   0.320067  "
      ]
     },
     "execution_count": 7,
     "metadata": {},
     "output_type": "execute_result"
    }
   ],
   "source": [
    "numeric_feats = pd.concat([numeric_feats_gamma, numeric_feats_beta], axis=1)\n",
    "numeric_feats.head()"
   ]
  },
  {
   "cell_type": "markdown",
   "metadata": {},
   "source": [
    "## Categorical features\n",
    "We generate 2 categorical features \n",
    "- One with 2 categories \n",
    "- One with 5 categories"
   ]
  },
  {
   "cell_type": "code",
   "execution_count": 8,
   "metadata": {},
   "outputs": [
    {
     "data": {
      "text/html": [
       "<div>\n",
       "<style scoped>\n",
       "    .dataframe tbody tr th:only-of-type {\n",
       "        vertical-align: middle;\n",
       "    }\n",
       "\n",
       "    .dataframe tbody tr th {\n",
       "        vertical-align: top;\n",
       "    }\n",
       "\n",
       "    .dataframe thead th {\n",
       "        text-align: right;\n",
       "    }\n",
       "</style>\n",
       "<table border=\"1\" class=\"dataframe\">\n",
       "  <thead>\n",
       "    <tr style=\"text-align: right;\">\n",
       "      <th></th>\n",
       "      <th>categ_0</th>\n",
       "      <th>categ_1</th>\n",
       "    </tr>\n",
       "  </thead>\n",
       "  <tbody>\n",
       "    <tr>\n",
       "      <th>0</th>\n",
       "      <td>0</td>\n",
       "      <td>0</td>\n",
       "    </tr>\n",
       "    <tr>\n",
       "      <th>1</th>\n",
       "      <td>0</td>\n",
       "      <td>2</td>\n",
       "    </tr>\n",
       "    <tr>\n",
       "      <th>2</th>\n",
       "      <td>0</td>\n",
       "      <td>4</td>\n",
       "    </tr>\n",
       "    <tr>\n",
       "      <th>3</th>\n",
       "      <td>0</td>\n",
       "      <td>1</td>\n",
       "    </tr>\n",
       "    <tr>\n",
       "      <th>4</th>\n",
       "      <td>1</td>\n",
       "      <td>0</td>\n",
       "    </tr>\n",
       "  </tbody>\n",
       "</table>\n",
       "</div>"
      ],
      "text/plain": [
       "   categ_0  categ_1\n",
       "0        0        0\n",
       "1        0        2\n",
       "2        0        4\n",
       "3        0        1\n",
       "4        1        0"
      ]
     },
     "execution_count": 8,
     "metadata": {},
     "output_type": "execute_result"
    }
   ],
   "source": [
    "cat_0 = np.random.choice(2, p=(0.4, 0.6), size=(n_samples))\n",
    "\n",
    "n_cats_1 = 5\n",
    "p_cat_1 = np.random.dirichlet(\n",
    "    np.random.uniform(0, 4, size=n_cats_1)\n",
    ")\n",
    "cat_1 = np.random.choice(n_cats_1, p=p_cat_1, size=(n_samples))\n",
    "\n",
    "categ_feats = pd.DataFrame({\n",
    "    'categ_0': cat_0,\n",
    "    'categ_1': cat_1\n",
    "})\n",
    "\n",
    "categ_feats.head()"
   ]
  },
  {
   "cell_type": "code",
   "execution_count": 9,
   "metadata": {},
   "outputs": [
    {
     "data": {
      "image/png": "[encoded data removed]",
      "text/plain": [
       "<Figure size 1080x216 with 2 Axes>"
      ]
     },
     "metadata": {
      "needs_background": "light"
     },
     "output_type": "display_data"
    }
   ],
   "source": [
    "categ_feats.hist(figsize=(15, 3), bins=n_cats_1+10);"
   ]
  },
  {
   "cell_type": "code",
   "execution_count": 10,
   "metadata": {},
   "outputs": [
    {
     "data": {
      "text/html": [
       "<div>\n",
       "<style scoped>\n",
       "    .dataframe tbody tr th:only-of-type {\n",
       "        vertical-align: middle;\n",
       "    }\n",
       "\n",
       "    .dataframe tbody tr th {\n",
       "        vertical-align: top;\n",
       "    }\n",
       "\n",
       "    .dataframe thead th {\n",
       "        text-align: right;\n",
       "    }\n",
       "</style>\n",
       "<table border=\"1\" class=\"dataframe\">\n",
       "  <thead>\n",
       "    <tr style=\"text-align: right;\">\n",
       "      <th></th>\n",
       "      <th>numeric_0</th>\n",
       "      <th>numeric_1</th>\n",
       "      <th>numeric_2</th>\n",
       "      <th>numeric_3</th>\n",
       "      <th>numeric_4</th>\n",
       "      <th>numeric_5</th>\n",
       "      <th>numeric_6</th>\n",
       "      <th>numeric_7</th>\n",
       "      <th>numeric_8</th>\n",
       "      <th>numeric_9</th>\n",
       "      <th>categ_0</th>\n",
       "      <th>categ_1</th>\n",
       "    </tr>\n",
       "  </thead>\n",
       "  <tbody>\n",
       "    <tr>\n",
       "      <th>0</th>\n",
       "      <td>0.198528</td>\n",
       "      <td>1.241497</td>\n",
       "      <td>4.696066</td>\n",
       "      <td>11.830818</td>\n",
       "      <td>2.279061e-02</td>\n",
       "      <td>0.080009</td>\n",
       "      <td>0.946947</td>\n",
       "      <td>3.799003e-08</td>\n",
       "      <td>0.999981</td>\n",
       "      <td>0.729404</td>\n",
       "      <td>0</td>\n",
       "      <td>0</td>\n",
       "    </tr>\n",
       "    <tr>\n",
       "      <th>1</th>\n",
       "      <td>0.143972</td>\n",
       "      <td>2.159283</td>\n",
       "      <td>4.076755</td>\n",
       "      <td>6.600040</td>\n",
       "      <td>3.775116e-10</td>\n",
       "      <td>0.053959</td>\n",
       "      <td>0.928054</td>\n",
       "      <td>6.577032e-06</td>\n",
       "      <td>0.997312</td>\n",
       "      <td>0.466690</td>\n",
       "      <td>0</td>\n",
       "      <td>2</td>\n",
       "    </tr>\n",
       "    <tr>\n",
       "      <th>2</th>\n",
       "      <td>0.121537</td>\n",
       "      <td>0.374257</td>\n",
       "      <td>6.227243</td>\n",
       "      <td>7.745228</td>\n",
       "      <td>2.007561e+00</td>\n",
       "      <td>0.031287</td>\n",
       "      <td>0.981738</td>\n",
       "      <td>8.008769e-01</td>\n",
       "      <td>0.976252</td>\n",
       "      <td>0.764562</td>\n",
       "      <td>0</td>\n",
       "      <td>4</td>\n",
       "    </tr>\n",
       "    <tr>\n",
       "      <th>3</th>\n",
       "      <td>1.725056</td>\n",
       "      <td>1.172090</td>\n",
       "      <td>5.839338</td>\n",
       "      <td>8.856516</td>\n",
       "      <td>9.588456e-01</td>\n",
       "      <td>0.060675</td>\n",
       "      <td>0.998299</td>\n",
       "      <td>1.273418e-05</td>\n",
       "      <td>0.999931</td>\n",
       "      <td>0.436125</td>\n",
       "      <td>0</td>\n",
       "      <td>1</td>\n",
       "    </tr>\n",
       "    <tr>\n",
       "      <th>4</th>\n",
       "      <td>0.665196</td>\n",
       "      <td>0.487660</td>\n",
       "      <td>4.155012</td>\n",
       "      <td>11.517602</td>\n",
       "      <td>1.596134e-03</td>\n",
       "      <td>0.186576</td>\n",
       "      <td>0.991971</td>\n",
       "      <td>5.740028e-03</td>\n",
       "      <td>0.964936</td>\n",
       "      <td>0.320067</td>\n",
       "      <td>1</td>\n",
       "      <td>0</td>\n",
       "    </tr>\n",
       "  </tbody>\n",
       "</table>\n",
       "</div>"
      ],
      "text/plain": [
       "   numeric_0  numeric_1  numeric_2  numeric_3     numeric_4  numeric_5  \\\n",
       "0   0.198528   1.241497   4.696066  11.830818  2.279061e-02   0.080009   \n",
       "1   0.143972   2.159283   4.076755   6.600040  3.775116e-10   0.053959   \n",
       "2   0.121537   0.374257   6.227243   7.745228  2.007561e+00   0.031287   \n",
       "3   1.725056   1.172090   5.839338   8.856516  9.588456e-01   0.060675   \n",
       "4   0.665196   0.487660   4.155012  11.517602  1.596134e-03   0.186576   \n",
       "\n",
       "   numeric_6     numeric_7  numeric_8  numeric_9  categ_0  categ_1  \n",
       "0   0.946947  3.799003e-08   0.999981   0.729404        0        0  \n",
       "1   0.928054  6.577032e-06   0.997312   0.466690        0        2  \n",
       "2   0.981738  8.008769e-01   0.976252   0.764562        0        4  \n",
       "3   0.998299  1.273418e-05   0.999931   0.436125        0        1  \n",
       "4   0.991971  5.740028e-03   0.964936   0.320067        1        0  "
      ]
     },
     "execution_count": 10,
     "metadata": {},
     "output_type": "execute_result"
    }
   ],
   "source": [
    "feats = pd.concat([numeric_feats, categ_feats], axis=1)\n",
    "feats.head()"
   ]
  },
  {
   "cell_type": "markdown",
   "metadata": {},
   "source": [
    "# Target data\n",
    "We use semi linear model generation process"
   ]
  },
  {
   "cell_type": "code",
   "execution_count": 11,
   "metadata": {},
   "outputs": [],
   "source": [
    "from pytorch_tabnet.tab_model import TabNetRegressor\n",
    "from sklearn.preprocessing import StandardScaler\n",
    "from sklearn.impute import SimpleImputer\n",
    "from sklearn.pipeline import Pipeline\n",
    "from sklearn.compose import ColumnTransformer"
   ]
  },
  {
   "cell_type": "code",
   "execution_count": 12,
   "metadata": {},
   "outputs": [],
   "source": [
    "numerical_features = [f'numeric_{i}' for i in range(10)]\n",
    "categorical_features = [f'categ_{i}' for i in range(2)]\n",
    "features = numerical_features + categorical_features"
   ]
  },
  {
   "cell_type": "code",
   "execution_count": 13,
   "metadata": {},
   "outputs": [
    {
     "data": {
      "text/plain": [
       "ColumnTransformer(transformers=[('num',\n",
       "                                 Pipeline(steps=[('scaler', StandardScaler())]),\n",
       "                                 ['numeric_0', 'numeric_1', 'numeric_2',\n",
       "                                  'numeric_3', 'numeric_4', 'numeric_5',\n",
       "                                  'numeric_6', 'numeric_7', 'numeric_8',\n",
       "                                  'numeric_9']),\n",
       "                                ('cat',\n",
       "                                 Pipeline(steps=[('imputer',\n",
       "                                                  SimpleImputer(fill_value=-1,\n",
       "                                                                strategy='constant'))]),\n",
       "                                 ['categ_0', 'categ_1'])])"
      ]
     },
     "execution_count": 13,
     "metadata": {},
     "output_type": "execute_result"
    }
   ],
   "source": [
    "numeric_transformer = Pipeline(steps=[\n",
    "    ('scaler', StandardScaler()),\n",
    "    ])\n",
    "\n",
    "#we add this only to add something in the final column transformer for the categ feats\n",
    "categorical_transformer = Pipeline(steps=[\n",
    "    ('imputer', SimpleImputer(strategy='constant', fill_value=-1)),\n",
    "    ])\n",
    "\n",
    "preprocessor = ColumnTransformer(       \n",
    "    transformers=[\n",
    "        ('num', numeric_transformer, numerical_features),\n",
    "        ('cat', categorical_transformer, categorical_features)]\n",
    ")\n",
    "\n",
    "preprocessor.fit(feats)"
   ]
  },
  {
   "cell_type": "code",
   "execution_count": 14,
   "metadata": {},
   "outputs": [
    {
     "data": {
      "text/html": [
       "<div>\n",
       "<style scoped>\n",
       "    .dataframe tbody tr th:only-of-type {\n",
       "        vertical-align: middle;\n",
       "    }\n",
       "\n",
       "    .dataframe tbody tr th {\n",
       "        vertical-align: top;\n",
       "    }\n",
       "\n",
       "    .dataframe thead th {\n",
       "        text-align: right;\n",
       "    }\n",
       "</style>\n",
       "<table border=\"1\" class=\"dataframe\">\n",
       "  <thead>\n",
       "    <tr style=\"text-align: right;\">\n",
       "      <th></th>\n",
       "      <th>numeric_0</th>\n",
       "      <th>numeric_1</th>\n",
       "      <th>numeric_2</th>\n",
       "      <th>numeric_3</th>\n",
       "      <th>numeric_4</th>\n",
       "      <th>numeric_5</th>\n",
       "      <th>numeric_6</th>\n",
       "      <th>numeric_7</th>\n",
       "      <th>numeric_8</th>\n",
       "      <th>numeric_9</th>\n",
       "      <th>categ_0</th>\n",
       "      <th>categ_1</th>\n",
       "    </tr>\n",
       "  </thead>\n",
       "  <tbody>\n",
       "    <tr>\n",
       "      <th>0</th>\n",
       "      <td>-0.143362</td>\n",
       "      <td>0.244884</td>\n",
       "      <td>0.245423</td>\n",
       "      <td>0.544624</td>\n",
       "      <td>-0.304425</td>\n",
       "      <td>-0.406668</td>\n",
       "      <td>-0.121221</td>\n",
       "      <td>-0.458778</td>\n",
       "      <td>0.676937</td>\n",
       "      <td>1.105795</td>\n",
       "      <td>0.0</td>\n",
       "      <td>0.0</td>\n",
       "    </tr>\n",
       "    <tr>\n",
       "      <th>1</th>\n",
       "      <td>-0.296680</td>\n",
       "      <td>1.168121</td>\n",
       "      <td>0.026976</td>\n",
       "      <td>-0.465522</td>\n",
       "      <td>-0.311485</td>\n",
       "      <td>-0.643439</td>\n",
       "      <td>-0.536523</td>\n",
       "      <td>-0.458745</td>\n",
       "      <td>0.629991</td>\n",
       "      <td>-0.568321</td>\n",
       "      <td>0.0</td>\n",
       "      <td>2.0</td>\n",
       "    </tr>\n",
       "    <tr>\n",
       "      <th>2</th>\n",
       "      <td>-0.359731</td>\n",
       "      <td>-0.627506</td>\n",
       "      <td>0.785507</td>\n",
       "      <td>-0.244368</td>\n",
       "      <td>0.310386</td>\n",
       "      <td>-0.849506</td>\n",
       "      <td>0.643558</td>\n",
       "      <td>3.564741</td>\n",
       "      <td>0.259485</td>\n",
       "      <td>1.329833</td>\n",
       "      <td>0.0</td>\n",
       "      <td>4.0</td>\n",
       "    </tr>\n",
       "    <tr>\n",
       "      <th>3</th>\n",
       "      <td>4.146636</td>\n",
       "      <td>0.175065</td>\n",
       "      <td>0.648683</td>\n",
       "      <td>-0.029761</td>\n",
       "      <td>-0.014468</td>\n",
       "      <td>-0.582394</td>\n",
       "      <td>1.007591</td>\n",
       "      <td>-0.458715</td>\n",
       "      <td>0.676059</td>\n",
       "      <td>-0.763094</td>\n",
       "      <td>0.0</td>\n",
       "      <td>1.0</td>\n",
       "    </tr>\n",
       "    <tr>\n",
       "      <th>4</th>\n",
       "      <td>1.168114</td>\n",
       "      <td>-0.513430</td>\n",
       "      <td>0.054579</td>\n",
       "      <td>0.484137</td>\n",
       "      <td>-0.310990</td>\n",
       "      <td>0.561904</td>\n",
       "      <td>0.868492</td>\n",
       "      <td>-0.429941</td>\n",
       "      <td>0.060415</td>\n",
       "      <td>-1.502660</td>\n",
       "      <td>1.0</td>\n",
       "      <td>0.0</td>\n",
       "    </tr>\n",
       "  </tbody>\n",
       "</table>\n",
       "</div>"
      ],
      "text/plain": [
       "   numeric_0  numeric_1  numeric_2  numeric_3  numeric_4  numeric_5  \\\n",
       "0  -0.143362   0.244884   0.245423   0.544624  -0.304425  -0.406668   \n",
       "1  -0.296680   1.168121   0.026976  -0.465522  -0.311485  -0.643439   \n",
       "2  -0.359731  -0.627506   0.785507  -0.244368   0.310386  -0.849506   \n",
       "3   4.146636   0.175065   0.648683  -0.029761  -0.014468  -0.582394   \n",
       "4   1.168114  -0.513430   0.054579   0.484137  -0.310990   0.561904   \n",
       "\n",
       "   numeric_6  numeric_7  numeric_8  numeric_9  categ_0  categ_1  \n",
       "0  -0.121221  -0.458778   0.676937   1.105795      0.0      0.0  \n",
       "1  -0.536523  -0.458745   0.629991  -0.568321      0.0      2.0  \n",
       "2   0.643558   3.564741   0.259485   1.329833      0.0      4.0  \n",
       "3   1.007591  -0.458715   0.676059  -0.763094      0.0      1.0  \n",
       "4   0.868492  -0.429941   0.060415  -1.502660      1.0      0.0  "
      ]
     },
     "execution_count": 14,
     "metadata": {},
     "output_type": "execute_result"
    }
   ],
   "source": [
    "transf_feats = pd.DataFrame(\n",
    "    preprocessor.transform(feats), \n",
    "    columns=features\n",
    ")\n",
    "\n",
    "transf_feats.head()"
   ]
  },
  {
   "cell_type": "code",
   "execution_count": 15,
   "metadata": {},
   "outputs": [
    {
     "data": {
      "text/plain": [
       "(100000, 10)"
      ]
     },
     "execution_count": 15,
     "metadata": {},
     "output_type": "execute_result"
    }
   ],
   "source": [
    "transf_feats[numerical_features].shape"
   ]
  },
  {
   "cell_type": "code",
   "execution_count": 16,
   "metadata": {},
   "outputs": [],
   "source": [
    "loc_0 = np.random.uniform(-1, 1, size=len(numerical_features))\n",
    "loc_1 = np.random.uniform(-1, 1, size=len(numerical_features))"
   ]
  },
  {
   "cell_type": "markdown",
   "metadata": {},
   "source": [
    "This is the epistemic uncertinty"
   ]
  },
  {
   "cell_type": "code",
   "execution_count": 24,
   "metadata": {},
   "outputs": [],
   "source": [
    "std = 0.02\n",
    "\n",
    "a_0 = np.random.normal(loc_0, std, size=(n_samples, len(numerical_features)))\n",
    "a_1 = np.random.normal(loc_1, std, size=(n_samples, len(numerical_features)))\n",
    "a = np.concatenate([a_0.reshape(n_samples,-1, 1), a_1.reshape(n_samples,-1, 1)], axis=2)\n",
    "a_combined = a[feats.index, :, feats['categ_0']]\n",
    "linear_part = (feats[numerical_features]*a_combined).sum(axis=1)"
   ]
  },
  {
   "cell_type": "code",
   "execution_count": 39,
   "metadata": {},
   "outputs": [
    {
     "data": {
      "text/plain": [
       "array([-0.04692343,  0.05276279, -0.73672342, -0.42314256,  0.66678846])"
      ]
     },
     "execution_count": 39,
     "metadata": {},
     "output_type": "execute_result"
    }
   ],
   "source": [
    "biases = np.random.uniform(-1, 1, size=5)\n",
    "biases"
   ]
  },
  {
   "cell_type": "code",
   "execution_count": 44,
   "metadata": {},
   "outputs": [],
   "source": [
    "biases = np.random.uniform(-1, 1, size=5)\n",
    "\n",
    "data = feats.copy(deep=True)\n",
    "data['target'] = linear_part + biases[feats['categ_1']]"
   ]
  },
  {
   "cell_type": "code",
   "execution_count": 45,
   "metadata": {},
   "outputs": [
    {
     "data": {
      "text/plain": [
       "<AxesSubplot:>"
      ]
     },
     "execution_count": 45,
     "metadata": {},
     "output_type": "execute_result"
    },
    {
     "data": {
      "image/png": "[encoded data removed]",
      "text/plain": [
       "<Figure size 432x288 with 1 Axes>"
      ]
     },
     "metadata": {
      "needs_background": "light"
     },
     "output_type": "display_data"
    }
   ],
   "source": [
    "data['target'].hist(bins=100)"
   ]
  },
  {
   "cell_type": "code",
   "execution_count": 46,
   "metadata": {},
   "outputs": [],
   "source": [
    "data.to_csv('./data/data.csv')"
   ]
  },
  {
   "cell_type": "code",
   "execution_count": null,
   "metadata": {},
   "outputs": [],
   "source": []
  }
 ],
 "metadata": {
  "kernelspec": {
   "display_name": "Python 3",
   "language": "python",
   "name": "python3"
  },
  "language_info": {
   "codemirror_mode": {
    "name": "ipython",
    "version": 3
   },
   "file_extension": ".py",
   "mimetype": "text/x-python",
   "name": "python",
   "nbconvert_exporter": "python",
   "pygments_lexer": "ipython3",
   "version": "3.7.9"
  }
 },
 "nbformat": 4,
 "nbformat_minor": 4
}
